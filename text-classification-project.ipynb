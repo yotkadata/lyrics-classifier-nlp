{
 "cells": [
  {
   "attachments": {},
   "cell_type": "markdown",
   "metadata": {},
   "source": [
    "# Classifying song lyrics using Natural Language Processing (NLP)\n",
    "\n",
    "_Project by Jan Kühn, April 2023_\n",
    "\n",
    "In this project, we build a text classification model on song lyrics. The task is to predict the artist from a piece of text. To train such a model, we first need to collect a lyrics dataset. We will\n",
    "\n",
    "- Download a HTML page from lyrics.com with links to songs using the `requests` library\n",
    "- Extract hyperlinks of song pages using the `BeautifulSoup` library\n",
    "- Download and extract the song lyrics and save them to a temporary CSV file using the `requests` and `pandas` libraries\n",
    "- Clean and preprocess the lyrics using `TreebankWordTokenizer` and `WordNetLemmatizer` from the `nltk` library\n",
    "- Vectorize the text using `TfidfVectorizer` from the `sklearn` library\n",
    "- Build and hypertune a classification model using Naive Bayes classifier for multinomial models (`MultinomialNB`)\n",
    "- Predict the artist from a piece of text based on the trained model\n",
    "\n",
    "The heavy lifting is done in the functions defined in `includes`. We import them here and use them to build the model."
   ]
  },
  {
   "cell_type": "markdown",
   "metadata": {},
   "source": [
    "## Import necessary libraries\n",
    "\n",
    "Most libraries are imported in the files we import from `includes`, we just need to import Pandas, the functions we defined in `includes`, and the settings."
   ]
  },
  {
   "cell_type": "code",
   "execution_count": null,
   "metadata": {},
   "outputs": [],
   "source": [
    "import pandas as pd\n",
    "from includes.misc import convert_lyrics_to_lines, plot_wordcloud\n",
    "from includes.modelling import (load_model, prepare_corpus, preprocess_corpus,\n",
    "                                print_results, tune_hyperparameters)\n",
    "from includes.parse import parse_lyrics_from_files\n",
    "from includes.scrape import scrape_artist_song_list, scrape_songs_to_files\n",
    "from settings import conf"
   ]
  },
  {
   "attachments": {},
   "cell_type": "markdown",
   "metadata": {},
   "source": [
    "## Get the lyrics\n",
    "\n",
    "First, we will download the HTML page from lyrics.com holding links to the artists songs."
   ]
  },
  {
   "cell_type": "code",
   "execution_count": null,
   "metadata": {},
   "outputs": [],
   "source": [
    "scrape_artist_song_list(conf[\"artist_urls\"])"
   ]
  },
  {
   "cell_type": "markdown",
   "metadata": {},
   "source": [
    "Next, we scrape the lyrics for each song in the song list and save them to HTML files locally. This will take a while, especially because of the `sleep_sec` time defined in `settings.py`."
   ]
  },
  {
   "cell_type": "code",
   "execution_count": null,
   "metadata": {},
   "outputs": [],
   "source": [
    "scrape_songs_to_files(conf[\"artist_urls\"])"
   ]
  },
  {
   "cell_type": "markdown",
   "metadata": {},
   "source": [
    "Now we can parse the HTML files and save the lyrics to a CSV file."
   ]
  },
  {
   "cell_type": "code",
   "execution_count": null,
   "metadata": {},
   "outputs": [],
   "source": [
    "songs = parse_lyrics_from_files(conf[\"artist_urls\"])"
   ]
  },
  {
   "cell_type": "markdown",
   "metadata": {},
   "source": [
    "Let's have a look at the resulting DataFrame."
   ]
  },
  {
   "cell_type": "code",
   "execution_count": 7,
   "metadata": {},
   "outputs": [
    {
     "data": {
      "text/html": [
       "<div>\n",
       "<style scoped>\n",
       "    .dataframe tbody tr th:only-of-type {\n",
       "        vertical-align: middle;\n",
       "    }\n",
       "\n",
       "    .dataframe tbody tr th {\n",
       "        vertical-align: top;\n",
       "    }\n",
       "\n",
       "    .dataframe thead th {\n",
       "        text-align: right;\n",
       "    }\n",
       "</style>\n",
       "<table border=\"1\" class=\"dataframe\">\n",
       "  <thead>\n",
       "    <tr style=\"text-align: right;\">\n",
       "      <th></th>\n",
       "      <th>title</th>\n",
       "      <th>artist</th>\n",
       "      <th>lyrics</th>\n",
       "    </tr>\n",
       "  </thead>\n",
       "  <tbody>\n",
       "    <tr>\n",
       "      <th>0</th>\n",
       "      <td>Wrong About Bobby</td>\n",
       "      <td>Eels</td>\n",
       "      <td>I was wrong about Bobby\\nI admit he's not the ...</td>\n",
       "    </tr>\n",
       "    <tr>\n",
       "      <th>1</th>\n",
       "      <td>Funeral Parlor</td>\n",
       "      <td>Eels</td>\n",
       "      <td>Sitting in the funeral parlor\\nOn the night be...</td>\n",
       "    </tr>\n",
       "    <tr>\n",
       "      <th>2</th>\n",
       "      <td>I Like the Way This is Going</td>\n",
       "      <td>Eels</td>\n",
       "      <td>I like your toothy smile,\\nIt never fails to b...</td>\n",
       "    </tr>\n",
       "    <tr>\n",
       "      <th>3</th>\n",
       "      <td>The Only Thing I Care About</td>\n",
       "      <td>Eels</td>\n",
       "      <td>She had the eyes of someone older\\nI have the ...</td>\n",
       "    </tr>\n",
       "    <tr>\n",
       "      <th>4</th>\n",
       "      <td>Jungle Telegraph</td>\n",
       "      <td>Eels</td>\n",
       "      <td>Mama had an epidural \\nHoping I would be a gir...</td>\n",
       "    </tr>\n",
       "    <tr>\n",
       "      <th>...</th>\n",
       "      <td>...</td>\n",
       "      <td>...</td>\n",
       "      <td>...</td>\n",
       "    </tr>\n",
       "    <tr>\n",
       "      <th>598</th>\n",
       "      <td>Rolling in the Deep</td>\n",
       "      <td>Adele</td>\n",
       "      <td>There's a fire starting in my heart\\nReaching ...</td>\n",
       "    </tr>\n",
       "    <tr>\n",
       "      <th>600</th>\n",
       "      <td>You'll Never See Me Again</td>\n",
       "      <td>Adele</td>\n",
       "      <td>In the darkness of my heart is a shadow of you...</td>\n",
       "    </tr>\n",
       "    <tr>\n",
       "      <th>603</th>\n",
       "      <td>Send My Love (To Your New Lover)</td>\n",
       "      <td>Adele</td>\n",
       "      <td>Just the guitar\\n\\nThis was all you, none of i...</td>\n",
       "    </tr>\n",
       "    <tr>\n",
       "      <th>605</th>\n",
       "      <td>Crazy For You</td>\n",
       "      <td>Adele</td>\n",
       "      <td>Found myself today singing out your name,\\nYou...</td>\n",
       "    </tr>\n",
       "    <tr>\n",
       "      <th>606</th>\n",
       "      <td>Rolling in Deep</td>\n",
       "      <td>Adele</td>\n",
       "      <td>There's a fire starting in my heart,\\nReaching...</td>\n",
       "    </tr>\n",
       "  </tbody>\n",
       "</table>\n",
       "<p>403 rows × 3 columns</p>\n",
       "</div>"
      ],
      "text/plain": [
       "                                title artist  \\\n",
       "0                   Wrong About Bobby   Eels   \n",
       "1                      Funeral Parlor   Eels   \n",
       "2        I Like the Way This is Going   Eels   \n",
       "3         The Only Thing I Care About   Eels   \n",
       "4                    Jungle Telegraph   Eels   \n",
       "..                                ...    ...   \n",
       "598               Rolling in the Deep  Adele   \n",
       "600         You'll Never See Me Again  Adele   \n",
       "603  Send My Love (To Your New Lover)  Adele   \n",
       "605                     Crazy For You  Adele   \n",
       "606                   Rolling in Deep  Adele   \n",
       "\n",
       "                                                lyrics  \n",
       "0    I was wrong about Bobby\\nI admit he's not the ...  \n",
       "1    Sitting in the funeral parlor\\nOn the night be...  \n",
       "2    I like your toothy smile,\\nIt never fails to b...  \n",
       "3    She had the eyes of someone older\\nI have the ...  \n",
       "4    Mama had an epidural \\nHoping I would be a gir...  \n",
       "..                                                 ...  \n",
       "598  There's a fire starting in my heart\\nReaching ...  \n",
       "600  In the darkness of my heart is a shadow of you...  \n",
       "603  Just the guitar\\n\\nThis was all you, none of i...  \n",
       "605  Found myself today singing out your name,\\nYou...  \n",
       "606  There's a fire starting in my heart,\\nReaching...  \n",
       "\n",
       "[403 rows x 3 columns]"
      ]
     },
     "execution_count": 7,
     "metadata": {},
     "output_type": "execute_result"
    }
   ],
   "source": [
    "songs"
   ]
  },
  {
   "cell_type": "markdown",
   "metadata": {},
   "source": [
    "If the CSV file already exists, we can also load it directly:"
   ]
  },
  {
   "cell_type": "code",
   "execution_count": null,
   "metadata": {},
   "outputs": [],
   "source": [
    "songs = pd.read_csv(\"data/songs_clean.csv\", index_col=0)"
   ]
  },
  {
   "cell_type": "markdown",
   "metadata": {},
   "source": [
    "Now we split the lyrics into lines, with one DataFrame row for each line."
   ]
  },
  {
   "cell_type": "code",
   "execution_count": null,
   "metadata": {},
   "outputs": [],
   "source": [
    "df_corpus = convert_lyrics_to_lines(songs)"
   ]
  },
  {
   "cell_type": "markdown",
   "metadata": {},
   "source": [
    "Have a look at the corpus."
   ]
  },
  {
   "cell_type": "code",
   "execution_count": 12,
   "metadata": {},
   "outputs": [
    {
     "data": {
      "text/html": [
       "<div>\n",
       "<style scoped>\n",
       "    .dataframe tbody tr th:only-of-type {\n",
       "        vertical-align: middle;\n",
       "    }\n",
       "\n",
       "    .dataframe tbody tr th {\n",
       "        vertical-align: top;\n",
       "    }\n",
       "\n",
       "    .dataframe thead th {\n",
       "        text-align: right;\n",
       "    }\n",
       "</style>\n",
       "<table border=\"1\" class=\"dataframe\">\n",
       "  <thead>\n",
       "    <tr style=\"text-align: right;\">\n",
       "      <th></th>\n",
       "      <th>title</th>\n",
       "      <th>artist</th>\n",
       "      <th>lyrics</th>\n",
       "    </tr>\n",
       "  </thead>\n",
       "  <tbody>\n",
       "    <tr>\n",
       "      <th>0</th>\n",
       "      <td>Wrong About Bobby</td>\n",
       "      <td>Eels</td>\n",
       "      <td>I was wrong about Bobby</td>\n",
       "    </tr>\n",
       "    <tr>\n",
       "      <th>1</th>\n",
       "      <td>Wrong About Bobby</td>\n",
       "      <td>Eels</td>\n",
       "      <td>I admit he's not the dumbest angry, young nitwit</td>\n",
       "    </tr>\n",
       "    <tr>\n",
       "      <th>2</th>\n",
       "      <td>Wrong About Bobby</td>\n",
       "      <td>Eels</td>\n",
       "      <td>No he can cut it with the best</td>\n",
       "    </tr>\n",
       "    <tr>\n",
       "      <th>3</th>\n",
       "      <td>Wrong About Bobby</td>\n",
       "      <td>Eels</td>\n",
       "      <td>And you'd better get out of his way</td>\n",
       "    </tr>\n",
       "    <tr>\n",
       "      <th>5</th>\n",
       "      <td>Wrong About Bobby</td>\n",
       "      <td>Eels</td>\n",
       "      <td>His girlfriend keeps him living in</td>\n",
       "    </tr>\n",
       "    <tr>\n",
       "      <th>...</th>\n",
       "      <td>...</td>\n",
       "      <td>...</td>\n",
       "      <td>...</td>\n",
       "    </tr>\n",
       "    <tr>\n",
       "      <th>15447</th>\n",
       "      <td>Rolling in Deep</td>\n",
       "      <td>Adele</td>\n",
       "      <td>(You're gonna wish you never had met me</td>\n",
       "    </tr>\n",
       "    <tr>\n",
       "      <th>15449</th>\n",
       "      <td>Rolling in Deep</td>\n",
       "      <td>Adele</td>\n",
       "      <td>But you played it,</td>\n",
       "    </tr>\n",
       "    <tr>\n",
       "      <th>15450</th>\n",
       "      <td>Rolling in Deep</td>\n",
       "      <td>Adele</td>\n",
       "      <td>You played it,</td>\n",
       "    </tr>\n",
       "    <tr>\n",
       "      <th>15451</th>\n",
       "      <td>Rolling in Deep</td>\n",
       "      <td>Adele</td>\n",
       "      <td>You played it,</td>\n",
       "    </tr>\n",
       "    <tr>\n",
       "      <th>15452</th>\n",
       "      <td>Rolling in Deep</td>\n",
       "      <td>Adele</td>\n",
       "      <td>You played it to the beat.</td>\n",
       "    </tr>\n",
       "  </tbody>\n",
       "</table>\n",
       "<p>13239 rows × 3 columns</p>\n",
       "</div>"
      ],
      "text/plain": [
       "                   title artist  \\\n",
       "0      Wrong About Bobby   Eels   \n",
       "1      Wrong About Bobby   Eels   \n",
       "2      Wrong About Bobby   Eels   \n",
       "3      Wrong About Bobby   Eels   \n",
       "5      Wrong About Bobby   Eels   \n",
       "...                  ...    ...   \n",
       "15447    Rolling in Deep  Adele   \n",
       "15449    Rolling in Deep  Adele   \n",
       "15450    Rolling in Deep  Adele   \n",
       "15451    Rolling in Deep  Adele   \n",
       "15452    Rolling in Deep  Adele   \n",
       "\n",
       "                                                 lyrics  \n",
       "0                               I was wrong about Bobby  \n",
       "1      I admit he's not the dumbest angry, young nitwit  \n",
       "2                        No he can cut it with the best  \n",
       "3                   And you'd better get out of his way  \n",
       "5                    His girlfriend keeps him living in  \n",
       "...                                                 ...  \n",
       "15447           (You're gonna wish you never had met me  \n",
       "15449                                But you played it,  \n",
       "15450                                    You played it,  \n",
       "15451                                    You played it,  \n",
       "15452                        You played it to the beat.  \n",
       "\n",
       "[13239 rows x 3 columns]"
      ]
     },
     "execution_count": 12,
     "metadata": {},
     "output_type": "execute_result"
    }
   ],
   "source": [
    "df_corpus"
   ]
  },
  {
   "cell_type": "markdown",
   "metadata": {},
   "source": [
    "Let's see how lyric lines are distributed between artists:"
   ]
  },
  {
   "cell_type": "code",
   "execution_count": 8,
   "metadata": {},
   "outputs": [
    {
     "data": {
      "text/plain": [
       "Eels                        0.508044\n",
       "Rage Against the Machine    0.246393\n",
       "Adele                       0.245562\n",
       "Name: artist, dtype: float64"
      ]
     },
     "execution_count": 8,
     "metadata": {},
     "output_type": "execute_result"
    }
   ],
   "source": [
    "df_corpus[\"artist\"].value_counts(normalize=True)"
   ]
  },
  {
   "cell_type": "markdown",
   "metadata": {},
   "source": [
    "## Wordclouds\n",
    "\n",
    "If we like, we can create wordclouds for each artist. This is not necessary for the model, but it's a nice visualization. There are three different shapes available: a circle, a rectangle, and a text of the author's name. For text, download the [Boldova font](https://www.cufonfonts.com/font/boldova) first and place the ttf in `data/Boldova.ttf`.\n"
   ]
  },
  {
   "cell_type": "markdown",
   "metadata": {},
   "source": [
    "### Eels\n"
   ]
  },
  {
   "cell_type": "code",
   "execution_count": null,
   "metadata": {},
   "outputs": [],
   "source": [
    "corpus = \" \".join(df_corpus[df_corpus[\"artist\"] == \"Eels\"][\"lyrics\"])\n",
    "plot_wordcloud(corpus, name=\"Eels\", shape=\"circle\")"
   ]
  },
  {
   "cell_type": "markdown",
   "metadata": {},
   "source": [
    "### Rage Against the Machine\n"
   ]
  },
  {
   "cell_type": "code",
   "execution_count": null,
   "metadata": {},
   "outputs": [],
   "source": [
    "corpus = \" \".join(\n",
    "    df_corpus[df_corpus[\"artist\"] == \"Rage Against the Machine\"][\"lyrics\"]\n",
    ")\n",
    "plot_wordcloud(corpus, name=\"ratm\", shape=\"rect\")"
   ]
  },
  {
   "attachments": {},
   "cell_type": "markdown",
   "metadata": {},
   "source": [
    "### Adele\n"
   ]
  },
  {
   "cell_type": "code",
   "execution_count": null,
   "metadata": {},
   "outputs": [],
   "source": [
    "corpus = \" \".join(\n",
    "    df_corpus[df_corpus[\"artist\"] == \"Adele\"][\"lyrics\"]\n",
    ")\n",
    "plot_wordcloud(corpus, name=\"Adele\", shape=\"text\")"
   ]
  },
  {
   "attachments": {},
   "cell_type": "markdown",
   "metadata": {},
   "source": [
    "## Build the model\n",
    "\n",
    "Now we can build the model to be used for prediction later. If we skip the steps from before, we can import the corpus directly from the CSV file."
   ]
  },
  {
   "cell_type": "code",
   "execution_count": null,
   "metadata": {},
   "outputs": [],
   "source": [
    "df_corpus = pd.read_csv(\"data/songs_by_line.csv\", index_col=0)"
   ]
  },
  {
   "cell_type": "markdown",
   "metadata": {},
   "source": [
    "### Prepare corpus and labels"
   ]
  },
  {
   "cell_type": "code",
   "execution_count": null,
   "metadata": {},
   "outputs": [],
   "source": [
    "corpus, labels = prepare_corpus(df_corpus)\n",
    "assert(len(corpus) == len(labels))"
   ]
  },
  {
   "cell_type": "code",
   "execution_count": null,
   "metadata": {},
   "outputs": [],
   "source": [
    "# Preprocess data (clean, tokenize, lemmatize)\n",
    "corpus_clean = preprocess_corpus(corpus)\n",
    "assert(len(corpus_clean) == len(labels))"
   ]
  },
  {
   "cell_type": "markdown",
   "metadata": {},
   "source": [
    "### Instantiate the model\n",
    "\n",
    "First we tune the hyperparameters for the TF-IDF vectorizer and the Multinomial Naive Bayes classifier. Then we instantiate the model with the best parameters."
   ]
  },
  {
   "cell_type": "code",
   "execution_count": null,
   "metadata": {},
   "outputs": [],
   "source": [
    "model = tune_hyperparameters(corpus_clean, labels)"
   ]
  },
  {
   "cell_type": "markdown",
   "metadata": {},
   "source": [
    "Instead of running hyperparameter tuning, you can also load a pre-trained model:"
   ]
  },
  {
   "cell_type": "code",
   "execution_count": 9,
   "metadata": {},
   "outputs": [],
   "source": [
    "model = load_model(\"models/\", \"trained_model.pkl\")"
   ]
  },
  {
   "cell_type": "markdown",
   "metadata": {},
   "source": [
    "## Use the trained model to predict for new lyrics\n",
    "\n",
    "We'll define some lyrics and predict the artist."
   ]
  },
  {
   "cell_type": "code",
   "execution_count": 10,
   "metadata": {},
   "outputs": [],
   "source": [
    "lyrics = [\n",
    "    \"From the era of terror, check this photo lens\",\n",
    "    \"beautiful freak\",\n",
    "    \"Fuck you I won't do what you tell me\",\n",
    "    \"Bombtrack\",\n",
    "    \"the mistakes of my youth\",\n",
    "    \"Check it, since fifteen hundred and sixteen, minds attacked and overseen\",\n",
    "    \"Shock around tha clock, from noon 'til noon\",\n",
    "    \"When I came into this world they slapped me\",\n",
    "    \"Or should I just keep chasing pavements?\",\n",
    "]"
   ]
  },
  {
   "cell_type": "code",
   "execution_count": 11,
   "metadata": {},
   "outputs": [
    {
     "name": "stdout",
     "output_type": "stream",
     "text": [
      "Line: From the era of terror, check this photo lens\n",
      "I am positive that line is from a Rage Against the Machine song (99% sure)\n",
      "\n",
      "Line: beautiful freak\n",
      "I am positive that line is from a Eels song (100% sure)\n",
      "\n",
      "Line: Fuck you I won't do what you tell me\n",
      "I am positive that line is from a Rage Against the Machine song (95% sure)\n",
      "\n",
      "Line: Bombtrack\n",
      "I am pretty sure that line is from a Rage Against the Machine song (88% sure)\n",
      "\n",
      "Line: the mistakes of my youth\n",
      "I am positive that line is from a Eels song (99% sure)\n",
      "\n",
      "Line: Check it, since fifteen hundred and sixteen, minds attacked and overseen\n",
      "I am pretty sure that line is from a Rage Against the Machine song (86% sure)\n",
      "\n",
      "Line: Shock around tha clock, from noon 'til noon\n",
      "I am pretty sure that line is from a Rage Against the Machine song (79% sure)\n",
      "\n",
      "Line: When I came into this world they slapped me\n",
      "I am positive that line is from a Eels song (96% sure)\n",
      "\n",
      "Line: Or should I just keep chasing pavements?\n",
      "I am positive that line is from a Adele song (100% sure)\n",
      "\n"
     ]
    }
   ],
   "source": [
    "# Preprocess\n",
    "lyrics_clean = preprocess_corpus(lyrics)\n",
    "\n",
    "# Get results\n",
    "predictions = model.predict(lyrics_clean)\n",
    "probabilities = [p.max() for p in model.predict_proba(lyrics_clean)]\n",
    "\n",
    "# Print results\n",
    "print_results(lyrics, predictions, probabilities)"
   ]
  },
  {
   "cell_type": "markdown",
   "metadata": {},
   "source": [
    "## Lastly, we can do the same using direct user input\n",
    "\n",
    "Run the cell and then enter some lyrics. The model will predict the artist. To exit, write \"quit\", \"q\", or \"exit\" and hit enter."
   ]
  },
  {
   "cell_type": "code",
   "execution_count": null,
   "metadata": {},
   "outputs": [],
   "source": [
    "keep_asking = True\n",
    "\n",
    "while keep_asking:\n",
    "    user_input = input(\"Enter a line from a song by the Eels, Adele, or Rage Against the Machine\")\n",
    "\n",
    "    if user_input in [\"quit\", \"q\", \"exit\"]:\n",
    "        keep_asking = False\n",
    "        continue\n",
    "\n",
    "    lyrics = [user_input]\n",
    "\n",
    "    # Preprocess\n",
    "    lyrics_clean = preprocess_corpus(lyrics)\n",
    "\n",
    "    # Get results\n",
    "    predictions = model.predict(lyrics_clean)\n",
    "    probabilities = [p.max() for p in model.predict_proba(lyrics_clean)]\n",
    "\n",
    "    # Print results\n",
    "    print_results(lyrics, predictions, probabilities)\n"
   ]
  }
 ],
 "metadata": {
  "kernelspec": {
   "display_name": "jupyter",
   "language": "python",
   "name": "python3"
  },
  "language_info": {
   "codemirror_mode": {
    "name": "ipython",
    "version": 3
   },
   "file_extension": ".py",
   "mimetype": "text/x-python",
   "name": "python",
   "nbconvert_exporter": "python",
   "pygments_lexer": "ipython3",
   "version": "3.11.3"
  },
  "orig_nbformat": 4
 },
 "nbformat": 4,
 "nbformat_minor": 2
}
